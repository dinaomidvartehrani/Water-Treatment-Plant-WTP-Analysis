{
  "nbformat": 4,
  "nbformat_minor": 0,
  "metadata": {
    "colab": {
      "provenance": []
    },
    "kernelspec": {
      "name": "python3",
      "display_name": "Python 3"
    },
    "language_info": {
      "name": "python"
    }
  },
  "cells": [
    {
      "cell_type": "code",
      "source": [
        "import pandas as pd\n",
        "import numpy as np\n",
        "from sklearn.model_selection import train_test_split\n",
        "from sklearn.linear_model import LinearRegression\n",
        "from matplotlib import pyplot as plt \n",
        "from sklearn.metrics import mean_squared_error"
      ],
      "metadata": {
        "id": "8lXoxEkPr9N2"
      },
      "execution_count": 1,
      "outputs": []
    },
    {
      "cell_type": "code",
      "source": [
        "from sklearn.manifold import TSNE\n",
        "import seaborn as sns\n",
        "sns.set(rc={'figure.figsize':(11.7,8.27)})\n",
        "palette = sns.color_palette(\"bright\", 10)"
      ],
      "metadata": {
        "id": "NAG-jPAsZCLV"
      },
      "execution_count": 2,
      "outputs": []
    },
    {
      "cell_type": "code",
      "source": [
        "data2022edited = pd.read_excel('/content/2022edited.xlsx')\n",
        "data_combined = pd.read_excel('/content/Combined2019-2022.xlsx')\n",
        "\n",
        "data2022edited.to_csv('csv_file.csv', index=False)\n",
        "data = pd.read_csv('/content/csv_file.csv')\n",
        "data_combined.to_csv('csv_file.csv', index=False)\n",
        "data_combined = pd.read_csv('/content/csv_file.csv')"
      ],
      "metadata": {
        "id": "TcZTLeN1rYqB"
      },
      "execution_count": 5,
      "outputs": []
    },
    {
      "cell_type": "code",
      "source": [
        "data.head(1)\n",
        "data_combined.head(1)"
      ],
      "metadata": {
        "colab": {
          "base_uri": "https://localhost:8080/",
          "height": 206
        },
        "id": "iLW_dbeANQY8",
        "outputId": "7e9031e2-e674-4cbe-d3bd-496cbbac6b44"
      },
      "execution_count": 6,
      "outputs": [
        {
          "output_type": "execute_result",
          "data": {
            "text/plain": [
              "   pH Raw  pH PTC  pH PTC\\n (OL)  pH SWC  pH Filter  pH Finish\\n (OL)  \\\n",
              "0    6.14    5.29           5.23    5.36       5.39              7.16   \n",
              "\n",
              "   pH Finish  Chlorine Free  Chlorine Total  Chlorine Sample  ...  \\\n",
              "0       7.11           1.59            1.94             2.04  ...   \n",
              "\n",
              "   Flows withinin\\n plant Finish  Flows withinin\\n plant Filter  \\\n",
              "0                          13.49                          14.47   \n",
              "\n",
              "   Flows withinin \\nplant Backwash  Flows from\\n plant Bishop's  \\\n",
              "0                             0.98                        1.568   \n",
              "\n",
              "   Flows from \\nplant Botwood  Flows from \\nplant GFW  \\\n",
              "0                       2.399                   9.523   \n",
              "\n",
              "   Chemical Dosages \\nChlorine  Chemical Dosages\\n Alum  \\\n",
              "0                     2.876455                    28.49   \n",
              "\n",
              "   Chemical Dosages Lime (Pre)  Chemical Dosages Lime (Post)  \n",
              "0                          5.0                           9.0  \n",
              "\n",
              "[1 rows x 54 columns]"
            ],
            "text/html": [
              "\n",
              "  <div id=\"df-63c8eaf3-2ca1-4b13-ad87-fb10d5ca61a9\">\n",
              "    <div class=\"colab-df-container\">\n",
              "      <div>\n",
              "<style scoped>\n",
              "    .dataframe tbody tr th:only-of-type {\n",
              "        vertical-align: middle;\n",
              "    }\n",
              "\n",
              "    .dataframe tbody tr th {\n",
              "        vertical-align: top;\n",
              "    }\n",
              "\n",
              "    .dataframe thead th {\n",
              "        text-align: right;\n",
              "    }\n",
              "</style>\n",
              "<table border=\"1\" class=\"dataframe\">\n",
              "  <thead>\n",
              "    <tr style=\"text-align: right;\">\n",
              "      <th></th>\n",
              "      <th>pH Raw</th>\n",
              "      <th>pH PTC</th>\n",
              "      <th>pH PTC\\n (OL)</th>\n",
              "      <th>pH SWC</th>\n",
              "      <th>pH Filter</th>\n",
              "      <th>pH Finish\\n (OL)</th>\n",
              "      <th>pH Finish</th>\n",
              "      <th>Chlorine Free</th>\n",
              "      <th>Chlorine Total</th>\n",
              "      <th>Chlorine Sample</th>\n",
              "      <th>...</th>\n",
              "      <th>Flows withinin\\n plant Finish</th>\n",
              "      <th>Flows withinin\\n plant Filter</th>\n",
              "      <th>Flows withinin \\nplant Backwash</th>\n",
              "      <th>Flows from\\n plant Bishop's</th>\n",
              "      <th>Flows from \\nplant Botwood</th>\n",
              "      <th>Flows from \\nplant GFW</th>\n",
              "      <th>Chemical Dosages \\nChlorine</th>\n",
              "      <th>Chemical Dosages\\n Alum</th>\n",
              "      <th>Chemical Dosages Lime (Pre)</th>\n",
              "      <th>Chemical Dosages Lime (Post)</th>\n",
              "    </tr>\n",
              "  </thead>\n",
              "  <tbody>\n",
              "    <tr>\n",
              "      <th>0</th>\n",
              "      <td>6.14</td>\n",
              "      <td>5.29</td>\n",
              "      <td>5.23</td>\n",
              "      <td>5.36</td>\n",
              "      <td>5.39</td>\n",
              "      <td>7.16</td>\n",
              "      <td>7.11</td>\n",
              "      <td>1.59</td>\n",
              "      <td>1.94</td>\n",
              "      <td>2.04</td>\n",
              "      <td>...</td>\n",
              "      <td>13.49</td>\n",
              "      <td>14.47</td>\n",
              "      <td>0.98</td>\n",
              "      <td>1.568</td>\n",
              "      <td>2.399</td>\n",
              "      <td>9.523</td>\n",
              "      <td>2.876455</td>\n",
              "      <td>28.49</td>\n",
              "      <td>5.0</td>\n",
              "      <td>9.0</td>\n",
              "    </tr>\n",
              "  </tbody>\n",
              "</table>\n",
              "<p>1 rows × 54 columns</p>\n",
              "</div>\n",
              "      <button class=\"colab-df-convert\" onclick=\"convertToInteractive('df-63c8eaf3-2ca1-4b13-ad87-fb10d5ca61a9')\"\n",
              "              title=\"Convert this dataframe to an interactive table.\"\n",
              "              style=\"display:none;\">\n",
              "        \n",
              "  <svg xmlns=\"http://www.w3.org/2000/svg\" height=\"24px\"viewBox=\"0 0 24 24\"\n",
              "       width=\"24px\">\n",
              "    <path d=\"M0 0h24v24H0V0z\" fill=\"none\"/>\n",
              "    <path d=\"M18.56 5.44l.94 2.06.94-2.06 2.06-.94-2.06-.94-.94-2.06-.94 2.06-2.06.94zm-11 1L8.5 8.5l.94-2.06 2.06-.94-2.06-.94L8.5 2.5l-.94 2.06-2.06.94zm10 10l.94 2.06.94-2.06 2.06-.94-2.06-.94-.94-2.06-.94 2.06-2.06.94z\"/><path d=\"M17.41 7.96l-1.37-1.37c-.4-.4-.92-.59-1.43-.59-.52 0-1.04.2-1.43.59L10.3 9.45l-7.72 7.72c-.78.78-.78 2.05 0 2.83L4 21.41c.39.39.9.59 1.41.59.51 0 1.02-.2 1.41-.59l7.78-7.78 2.81-2.81c.8-.78.8-2.07 0-2.86zM5.41 20L4 18.59l7.72-7.72 1.47 1.35L5.41 20z\"/>\n",
              "  </svg>\n",
              "      </button>\n",
              "      \n",
              "  <style>\n",
              "    .colab-df-container {\n",
              "      display:flex;\n",
              "      flex-wrap:wrap;\n",
              "      gap: 12px;\n",
              "    }\n",
              "\n",
              "    .colab-df-convert {\n",
              "      background-color: #E8F0FE;\n",
              "      border: none;\n",
              "      border-radius: 50%;\n",
              "      cursor: pointer;\n",
              "      display: none;\n",
              "      fill: #1967D2;\n",
              "      height: 32px;\n",
              "      padding: 0 0 0 0;\n",
              "      width: 32px;\n",
              "    }\n",
              "\n",
              "    .colab-df-convert:hover {\n",
              "      background-color: #E2EBFA;\n",
              "      box-shadow: 0px 1px 2px rgba(60, 64, 67, 0.3), 0px 1px 3px 1px rgba(60, 64, 67, 0.15);\n",
              "      fill: #174EA6;\n",
              "    }\n",
              "\n",
              "    [theme=dark] .colab-df-convert {\n",
              "      background-color: #3B4455;\n",
              "      fill: #D2E3FC;\n",
              "    }\n",
              "\n",
              "    [theme=dark] .colab-df-convert:hover {\n",
              "      background-color: #434B5C;\n",
              "      box-shadow: 0px 1px 3px 1px rgba(0, 0, 0, 0.15);\n",
              "      filter: drop-shadow(0px 1px 2px rgba(0, 0, 0, 0.3));\n",
              "      fill: #FFFFFF;\n",
              "    }\n",
              "  </style>\n",
              "\n",
              "      <script>\n",
              "        const buttonEl =\n",
              "          document.querySelector('#df-63c8eaf3-2ca1-4b13-ad87-fb10d5ca61a9 button.colab-df-convert');\n",
              "        buttonEl.style.display =\n",
              "          google.colab.kernel.accessAllowed ? 'block' : 'none';\n",
              "\n",
              "        async function convertToInteractive(key) {\n",
              "          const element = document.querySelector('#df-63c8eaf3-2ca1-4b13-ad87-fb10d5ca61a9');\n",
              "          const dataTable =\n",
              "            await google.colab.kernel.invokeFunction('convertToInteractive',\n",
              "                                                     [key], {});\n",
              "          if (!dataTable) return;\n",
              "\n",
              "          const docLinkHtml = 'Like what you see? Visit the ' +\n",
              "            '<a target=\"_blank\" href=https://colab.research.google.com/notebooks/data_table.ipynb>data table notebook</a>'\n",
              "            + ' to learn more about interactive tables.';\n",
              "          element.innerHTML = '';\n",
              "          dataTable['output_type'] = 'display_data';\n",
              "          await google.colab.output.renderOutput(dataTable, element);\n",
              "          const docLink = document.createElement('div');\n",
              "          docLink.innerHTML = docLinkHtml;\n",
              "          element.appendChild(docLink);\n",
              "        }\n",
              "      </script>\n",
              "    </div>\n",
              "  </div>\n",
              "  "
            ]
          },
          "metadata": {},
          "execution_count": 6
        }
      ]
    },
    {
      "cell_type": "code",
      "source": [
        "data.columns"
      ],
      "metadata": {
        "colab": {
          "base_uri": "https://localhost:8080/"
        },
        "id": "w63-C9BNCMfs",
        "outputId": "b4f0dde2-f16e-47e3-ad84-3abd9066485b"
      },
      "execution_count": null,
      "outputs": [
        {
          "output_type": "execute_result",
          "data": {
            "text/plain": [
              "Index(['Date', 'Shortcut', 'Start Time', 'pH Raw', 'pH PTC', 'pH PTC (OL)',\n",
              "       'pH SWC', 'pH Filter', 'pH Finish (OL)', 'pH Finish', 'Chlorine Free',\n",
              "       'Chlorine Total', 'Chlorine Sample', 'Chlorine Analyzer',\n",
              "       'Colour Raw A', 'Colour Raw T', 'Colour SWC A', 'Colour Filter A',\n",
              "       'Colour Finish A', 'Colour Finish T', 'Turbidity Raw',\n",
              "       'Turbidity Raw (OL)', 'Turbidity SWC', 'Turbidity Filter',\n",
              "       'Turbidity Finish', 'Turbidity Finish (OL)',\n",
              "       'Total Dissolved Solids Raw', 'Total Dissolved Solids PTC',\n",
              "       'Total Dissolved Solids SWC', 'Total Dissolved Solids Filter',\n",
              "       'Total Dissolved Solids Finish', 'Conductivity Raw', 'Conductivity PTC',\n",
              "       'Conductivity SWC', 'Conductivity Filter', 'Conductivity Finish',\n",
              "       'Hardness Raw', 'Hardness Finish', 'Alkalinity Raw',\n",
              "       'Alkalinity Finish', 'Aluminum Finish (Free)', 'Temperature Raw',\n",
              "       'Temperature Finish', 'Cl Demand', 'UVT Raw', 'UVT Filter', 'UVA Raw',\n",
              "       'UVA Filter', 'Flows withinin plant Raw', 'Flows withinin plant Finish',\n",
              "       'Flows withinin plant Filter', 'Flows withinin plant Backwash',\n",
              "       'Flows from plant Bishop's', 'Flows from plant Botwood',\n",
              "       'Flows from plant GFW', 'Chemical Dosages Chlorine',\n",
              "       'Chemical Dosages Alum', 'Chemical Dosages Lime (Pre)',\n",
              "       'Chemical Dosages Lime (Post)', 'Date.1'],\n",
              "      dtype='object')"
            ]
          },
          "metadata": {},
          "execution_count": 31
        }
      ]
    },
    {
      "cell_type": "code",
      "source": [
        "data_combined.columns"
      ],
      "metadata": {
        "colab": {
          "base_uri": "https://localhost:8080/"
        },
        "id": "EFejt_VhtbMB",
        "outputId": "f7b2d990-034c-4b2e-a13f-270312766105"
      },
      "execution_count": null,
      "outputs": [
        {
          "output_type": "execute_result",
          "data": {
            "text/plain": [
              "Index(['pH Raw', 'pH PTC', 'pH PTC\\n (OL)', 'pH SWC', 'pH Filter',\n",
              "       'pH Finish\\n (OL)', 'pH Finish', 'Chlorine Free', 'Chlorine Total',\n",
              "       'Chlorine Sample', 'Chlorine Analyzer', 'Colour Raw A', 'Colour Raw T',\n",
              "       'Colour SWC A', 'Colour Filter A', 'Turbidity Raw',\n",
              "       'Turbidity Raw (OL)', 'Turbidity SWC', 'Turbidity Filter',\n",
              "       'Turbidity Finish', 'Turbidity Finish (OL)',\n",
              "       'Total Dissolved\\n Solids Raw', 'Total Dissolved \\nSolids PTC',\n",
              "       'Total Dissolved \\nSolids SWC', 'Total Dissolved\\n Solids Filter',\n",
              "       'Total Dissolved\\n Solids Finish', 'Conductivity Raw',\n",
              "       'Conductivity\\n PTC', 'Conductivity \\nSWC', 'Conductivity\\n Filter',\n",
              "       'Conductivity \\nFinish', 'Hardness Raw', 'Hardness \\nFinish',\n",
              "       'Alkalinity Raw', 'Alkalinity Finish', 'Aluminum Finish\\n (Free)',\n",
              "       'Temperature Raw', 'Temperature Finish', 'Cl Demand', 'UVT Raw',\n",
              "       'UVT Filter', 'UVA Raw', 'UVA Filter', 'Flows withinin plant Raw',\n",
              "       'Flows withinin\\n plant Finish', 'Flows withinin\\n plant Filter',\n",
              "       'Flows withinin \\nplant Backwash', 'Flows from\\n plant Bishop's',\n",
              "       'Flows from \\nplant Botwood', 'Flows from \\nplant GFW',\n",
              "       'Chemical Dosages \\nChlorine', 'Chemical Dosages\\n Alum',\n",
              "       'Chemical Dosages Lime (Pre)', 'Chemical Dosages Lime (Post)'],\n",
              "      dtype='object')"
            ]
          },
          "metadata": {},
          "execution_count": 39
        }
      ]
    },
    {
      "cell_type": "markdown",
      "source": [
        "I tried to set PH, Chlorine, Turbidity, Conductivity, Alkalinity and temprature as training features, and **color as lable**. \n",
        "\n",
        "The score of linear regression was **0.65** on training set and **0.46** on the test set."
      ],
      "metadata": {
        "id": "vh16nW6lINo_"
      }
    },
    {
      "cell_type": "code",
      "source": [
        "X=data[['pH Raw', 'pH PTC','pH PTC (OL)','pH SWC','pH Filter', 'pH Finish (OL)','pH Finish', 'Chlorine Free',\n",
        "       'Chlorine Total', 'Chlorine Sample', 'Chlorine Analyzer','Turbidity Raw',\n",
        "       'Turbidity Raw (OL)', 'Turbidity SWC', 'Turbidity Filter',\n",
        "       'Turbidity Finish', 'Turbidity Finish (OL)','Conductivity Raw', 'Conductivity PTC',\n",
        "       'Conductivity SWC', 'Conductivity Filter', 'Conductivity Finish','Alkalinity Raw',\n",
        "       'Alkalinity Finish', 'Aluminum Finish (Free)', 'Temperature Raw',\n",
        "       'Temperature Finish']]\n",
        "Y=data[['Colour Filter A']]"
      ],
      "metadata": {
        "id": "gacrhhwudxOV"
      },
      "execution_count": null,
      "outputs": []
    },
    {
      "cell_type": "code",
      "source": [
        "X=data_combined[['pH Raw', 'pH PTC','pH SWC','pH Filter','pH Finish', 'Chlorine Free',\n",
        "       'Chlorine Total', 'Chlorine Sample', 'Chlorine Analyzer','Turbidity Raw',\n",
        "       'Turbidity Raw (OL)', 'Turbidity SWC', 'Turbidity Filter',\n",
        "       'Turbidity Finish', 'Turbidity Finish (OL)','Conductivity Raw','Alkalinity Raw',\n",
        "       'Alkalinity Finish', 'Temperature Raw','Temperature Finish']]\n",
        "Y=data_combined[['Colour Filter A']]"
      ],
      "metadata": {
        "id": "mgLpwYz5tlmw"
      },
      "execution_count": 7,
      "outputs": []
    },
    {
      "cell_type": "code",
      "source": [],
      "metadata": {
        "id": "_aAKx6aXQOVU"
      },
      "execution_count": null,
      "outputs": []
    },
    {
      "cell_type": "markdown",
      "source": [
        "# **Preprocessing**"
      ],
      "metadata": {
        "id": "1Icj2CFP5ZVf"
      }
    },
    {
      "cell_type": "code",
      "source": [
        "# from sklearn.preprocessing import StandardScaler\n",
        "# X = StandardScaler().fit_transform(X)\n",
        "# from sklearn.decomposition import PCA\n",
        "\n",
        "# pca = PCA(n_components=2)\n",
        "\n",
        "# principalComponents = pca.fit_transform(X)\n",
        "\n",
        "# principalDf = pd.DataFrame(data = principalComponents\n",
        "#              , columns = ['principal component 1', 'principal component 2'])\n",
        "# finalDf = pd.concat([principalDf, data[['Colour Filter A']]], axis = 1)"
      ],
      "metadata": {
        "id": "b-uD0a3Y5YbR"
      },
      "execution_count": null,
      "outputs": []
    },
    {
      "cell_type": "code",
      "source": [
        "                                                                                                                                                                                                                                                                                                                                                                                                                                                                                                                                                                                                                                                                                                                                                                                                                                                                                                                                                                                                                                                                                                                                                                                                                                                                                                                                                                                                                                                                                                                                                                                                                                                                                                                                                                                                                                                                                                                                                                                                                                                                                                                                                                                                                                                                                  import numpy as np\n",
        "import pandas as pd\n",
        "import matplotlib.pyplot as plt\n",
        "from sklearn.preprocessing import scale \n",
        "from sklearn import model_selection\n",
        "from sklearn.model_selection import RepeatedKFold\n",
        "from sklearn.model_selection import train_test_split\n",
        "from sklearn.decomposition import PCA\n",
        "from sklearn.linear_model import LinearRegression\n",
        "from sklearn.metrics import mean_squared_error\n",
        "from sklearn.preprocessing import StandardScaler\n",
        "from sklearn.decomposition import PCA\n",
        "from sklearn.tree import DecisionTreeRegressor\n",
        "X = StandardScaler().fit_transform(X)\n",
        "pca = PCA()\n",
        "mse = []\n",
        "X_reduced = pca.fit_transform(X)\n",
        "regressor2 = DecisionTreeRegressor(random_state=0,max_depth=4)\n",
        "#define cross validation method\n",
        "cv = RepeatedKFold(n_splits=10, n_repeats=3, random_state=1)\n",
        "\n",
        "# Calculate MSE with only the intercept\n",
        "score = -1*model_selection.cross_val_score(regressor2,\n",
        "           np.ones((len(X_reduced),1)), Y, cv=cv,\n",
        "           scoring='neg_mean_squared_error').mean()    \n",
        "mse.append(score)\n",
        "\n",
        "# Calculate MSE using cross-validation, adding one component at a time\n",
        "for i in np.arange(1, 6):\n",
        "    score = -1*model_selection.cross_val_score(regressor2,\n",
        "               X_reduced[:,:i], Y, cv=cv, scoring='neg_mean_squared_error').mean()\n",
        "    mse.append(score)\n",
        "    \n",
        "# Plot cross-validation results    \n",
        "plt.plot(mse)\n",
        "plt.xlabel('Number of Principal Components')\n",
        "plt.ylabel('MSE')\n",
        "plt.title('hp')"
      ],
      "metadata": {
        "colab": {
          "base_uri": "https://localhost:8080/",
          "height": 765
        },
        "id": "shrLoLCeERtw",
        "outputId": "448ad91e-3969-45cd-a5ca-14c1a3d003f8"
      },
      "execution_count": 8,
      "outputs": [
        {
          "output_type": "execute_result",
          "data": {
            "text/plain": [
              "Text(0.5, 1.0, 'hp')"
            ]
          },
          "metadata": {},
          "execution_count": 8
        },
        {
          "output_type": "display_data",
          "data": {
            "text/plain": [
              "<Figure size 1170x827 with 1 Axes>"
            ],
            "image/png": "[encoded data removed]"
          },
          "metadata": {}
        }
      ]
    },
    {
      "cell_type": "code",
      "source": [
        "x_train, x_test, y_train, y_test = train_test_split(X, Y, test_size=0.2, random_state=0)\n",
        "#scale the training and testing data\n",
        "x_train = StandardScaler().fit_transform(x_train)\n",
        "x_test = StandardScaler().fit_transform(x_test)[:,:3] #Choosing the 4 first Principal components\n",
        "X_reduced_train = pca.fit_transform(x_train)\n",
        "X_reduced_test = pca.fit_transform(x_test)\n",
        "\n",
        "regressor = DecisionTreeRegressor(random_state=0,max_depth=3)\n",
        "#define cross validation method\n",
        "cv = RepeatedKFold(n_splits=10, n_repeats=3, random_state=1)\n",
        "\n",
        "# Calculate MSE with only the intercept\n",
        "score = -1*model_selection.cross_val_score(regressor,\n",
        "           X_reduced_train, y_train, cv=cv,\n",
        "           scoring='neg_mean_squared_error').mean() \n",
        "#train PCR model on training data \n",
        "Model = regressor.fit(X_reduced_train[:,:3], y_train)\n",
        "Score_train = Model.score(X_reduced_train[:,:3], y_train)\n",
        "Score_test =Model.score(X_reduced_test[:,:3], y_test)\n",
        "print(\"Score of train: \",Score_train)\n",
        "print(\"Score of test: \",Score_test)\n",
        "\n",
        "\n",
        "#calculate RMSE\n",
        "pred = regressor.predict(X_reduced_test)\n",
        "np.sqrt(mean_squared_error(y_test, pred))"
      ],
      "metadata": {
        "colab": {
          "base_uri": "https://localhost:8080/"
        },
        "id": "ORSvXpTD4qXB",
        "outputId": "d79be49a-b257-411b-b455-84831c7110e3"
      },
      "execution_count": 11,
      "outputs": [
        {
          "output_type": "stream",
          "name": "stdout",
          "text": [
            "Score of train:  0.44510402044082775\n",
            "Score of test:  -0.08016474531009665\n"
          ]
        },
        {
          "output_type": "execute_result",
          "data": {
            "text/plain": [
              "3.342394015520427"
            ]
          },
          "metadata": {},
          "execution_count": 11
        }
      ]
    },
    {
      "cell_type": "markdown",
      "source": [
        "# **Visualizing 2D projections**"
      ],
      "metadata": {
        "id": "L8MNFZut7xie"
      }
    },
    {
      "cell_type": "code",
      "source": [
        "fig = plt.figure(figsize = (8,8))\n",
        "ax = fig.add_subplot(1,1,1) \n",
        "ax.set_xlabel('Principal Component 1', fontsize = 15)\n",
        "ax.set_ylabel('Principal Component 2', fontsize = 15)\n",
        "ax.set_title('2 component PCA', fontsize = 20)\n",
        "\n",
        "# targets = ['Iris-setosa', 'Iris-versicolor', 'Iris-virginica']\n",
        "colors = ['r', 'g', 'b']\n",
        "for target, color in zip(targets,colors):\n",
        "    indicesToKeep = finalDf['target'] == target\n",
        "    ax.scatter(finalDf.loc[indicesToKeep, 'principal component 1']\n",
        "               , finalDf.loc[indicesToKeep, 'principal component 2']\n",
        "               , c = color\n",
        "               , s = 50)\n",
        "ax.legend(targets)\n",
        "ax.grid()"
      ],
      "metadata": {
        "id": "7_QDQDNs7w5p"
      },
      "execution_count": null,
      "outputs": []
    },
    {
      "cell_type": "markdown",
      "source": [],
      "metadata": {
        "id": "OwjWNz5jJaEo"
      }
    },
    {
      "cell_type": "markdown",
      "source": [
        "I tried to set PH as training features, and color as lable. \n",
        "\n",
        "The score of linear regression was **0.04** on training set and **-0.017** on the test set."
      ],
      "metadata": {
        "id": "qxmqkTajJabd"
      }
    },
    {
      "cell_type": "code",
      "source": [
        "X=data[['pH Raw', 'pH PTC','pH PTC (OL)','pH SWC','pH Filter', 'pH Finish (OL)','pH Finish']]\n",
        "Y=data[['Colour Filter A']]"
      ],
      "metadata": {
        "id": "UZMIrtv1H6bO"
      },
      "execution_count": null,
      "outputs": []
    },
    {
      "cell_type": "code",
      "source": [
        "X.iloc[:,0:3]"
      ],
      "metadata": {
        "id": "Fo6-c68ECp2U",
        "colab": {
          "base_uri": "https://localhost:8080/",
          "height": 165
        },
        "outputId": "def6526d-f3ba-413e-c6fe-f2590b6f2b78"
      },
      "execution_count": null,
      "outputs": [
        {
          "output_type": "error",
          "ename": "AttributeError",
          "evalue": "ignored",
          "traceback": [
            "\u001b[0;31m---------------------------------------------------------------------------\u001b[0m",
            "\u001b[0;31mAttributeError\u001b[0m                            Traceback (most recent call last)",
            "\u001b[0;32m<ipython-input-30-e1de75582e11>\u001b[0m in \u001b[0;36m<cell line: 1>\u001b[0;34m()\u001b[0m\n\u001b[0;32m----> 1\u001b[0;31m \u001b[0mX\u001b[0m\u001b[0;34m.\u001b[0m\u001b[0miloc\u001b[0m\u001b[0;34m[\u001b[0m\u001b[0;34m:\u001b[0m\u001b[0;34m,\u001b[0m\u001b[0;36m0\u001b[0m\u001b[0;34m:\u001b[0m\u001b[0;36m3\u001b[0m\u001b[0;34m]\u001b[0m\u001b[0;34m\u001b[0m\u001b[0;34m\u001b[0m\u001b[0m\n\u001b[0m",
            "\u001b[0;31mAttributeError\u001b[0m: 'numpy.ndarray' object has no attribute 'iloc'"
          ]
        }
      ]
    },
    {
      "cell_type": "code",
      "source": [
        "x_train, x_test, y_train, y_test = train_test_split(X, Y, test_size=0.2, random_state=0)"
      ],
      "metadata": {
        "id": "oZTMC8JadriM"
      },
      "execution_count": null,
      "outputs": []
    },
    {
      "cell_type": "code",
      "source": [
        "#np.any(np.isnan(X_train))\n",
        "print(np.any(np.isnan(x_train)))\n",
        "print( len(x_train))\n",
        "print( len(y_train))\n",
        "print( len(x_test))\n",
        "print( len(y_test))"
      ],
      "metadata": {
        "colab": {
          "base_uri": "https://localhost:8080/"
        },
        "id": "qnK1tDV9Kphk",
        "outputId": "b719dd5e-2333-44e4-cefa-f28317392435"
      },
      "execution_count": null,
      "outputs": [
        {
          "output_type": "stream",
          "name": "stdout",
          "text": [
            "False\n",
            "250\n",
            "250\n",
            "63\n",
            "63\n"
          ]
        }
      ]
    },
    {
      "cell_type": "code",
      "source": [
        "model = LinearRegression().fit(x_train, y_train)\n",
        "model.score(x_train, y_train)\n",
        "model.score(x_test, y_test)\n",
        "y_pred = model.predict(x_test)\n",
        "mse = mean_squared_error(y_true=y_test, y_pred=y_pred, squared=True)\n",
        "rmse = mean_squared_error(y_true=y_test, y_pred=y_pred, squared=False)\n",
        "print(mse)"
      ],
      "metadata": {
        "id": "qKjJJsa5Iu0d"
      },
      "execution_count": null,
      "outputs": []
    },
    {
      "cell_type": "code",
      "source": [],
      "metadata": {
        "colab": {
          "base_uri": "https://localhost:8080/"
        },
        "id": "5vD4uJODImHE",
        "outputId": "e5a692a8-f937-4db0-efd9-35271295b9dc"
      },
      "execution_count": null,
      "outputs": [
        {
          "output_type": "stream",
          "name": "stdout",
          "text": [
            "8.792573686089588\n"
          ]
        }
      ]
    },
    {
      "cell_type": "code",
      "source": [
        "X_embedded = TSNE(n_components=2, learning_rate='auto',init='random', perplexity=3).fit_transform(X)"
      ],
      "metadata": {
        "id": "8x9ZQojuUOeG"
      },
      "execution_count": null,
      "outputs": []
    },
    {
      "cell_type": "code",
      "source": [
        "Y.shape"
      ],
      "metadata": {
        "colab": {
          "base_uri": "https://localhost:8080/"
        },
        "id": "_yElLPgIZz0P",
        "outputId": "6da41e7c-eb3d-4561-c590-66e29850c248"
      },
      "execution_count": null,
      "outputs": [
        {
          "output_type": "execute_result",
          "data": {
            "text/plain": [
              "(313, 1)"
            ]
          },
          "metadata": {},
          "execution_count": 52
        }
      ]
    },
    {
      "cell_type": "markdown",
      "source": [
        "# Lets try decision trees for regression"
      ],
      "metadata": {
        "id": "lgsgDnXlMGXZ"
      }
    },
    {
      "cell_type": "code",
      "source": [
        "#1 Importing the libraries\n",
        "import numpy as np\n",
        "import matplotlib.pyplot as plt\n",
        "import pandas as pd\n",
        "#2 Importing the dataset\n",
        "# dataset = pd.read_csv('Position_Salaries.csv')\n",
        "# X = dataset.iloc[:, 1:2].values\n",
        "# y = dataset.iloc[:, 2].values\n",
        "X=data[['pH Raw', 'pH PTC','pH PTC (OL)','pH SWC','pH Filter', 'pH Finish (OL)','pH Finish']]\n",
        "Y=data[['Colour Filter A']]\n",
        "\n",
        "# It doesn't need to split the dataset because we have a small dataset\n",
        "#3 Fitting the Decision Tree Regression Model to the dataset\n",
        "# Create the Decision Tree regressor object here\n"
      ],
      "metadata": {
        "colab": {
          "base_uri": "https://localhost:8080/"
        },
        "id": "Sa5HL2tcMPRQ",
        "outputId": "fe221495-e6fe-4c6b-f883-4c339c2d084a"
      },
      "execution_count": null,
      "outputs": [
        {
          "output_type": "stream",
          "name": "stdout",
          "text": [
            "Training score 1.0\n",
            "Testing score -0.3264318208328474\n",
            "RMSE+ 11.46031746031746\n"
          ]
        }
      ]
    },
    {
      "cell_type": "code",
      "source": [
        "from sklearn.tree import DecisionTreeRegressor\n",
        "#DecisionTreeRegressor class has many parameters. Input only #random_state=0 or 42.\n",
        "# regressor1 = DecisionTreeRegressor(random_state=0)\n",
        "regressor1 = DecisionTreeRegressor(random_state=0)\n",
        "regressor2 = DecisionTreeRegressor(random_state=0,max_depth=4)\n",
        "#Fit the regressor object to the dataset.\n",
        "\n",
        "model_DT1=regressor1.fit(x_train, y_train)\n",
        "model_DT2=regressor2.fit(x_train, y_train)\n",
        "\n",
        "print('Training score1',model_DT1.score(x_train, y_train))\n",
        "print('Testing score1',model_DT1.score(x_test, y_test))\n",
        "print('Training score2',model_DT2.score(x_train, y_train))\n",
        "print('Testing score2',model_DT2.score(x_test, y_test))\n",
        "y_pred1 = model_DT1.predict(x_test)\n",
        "y_pred2 = model_DT2.predict(x_test)\n",
        "from sklearn.metrics import mean_squared_error\n",
        "mse1 = mean_squared_error(y_true=y_test, y_pred=y_pred1, squared=True)\n",
        "rmse1 = mean_squared_error(y_true=y_test, y_pred=y_pred1, squared=False)\n",
        "print(\"RMSE+\",mse1)\n",
        "mse2 = mean_squared_error(y_true=y_test, y_pred=y_pred2, squared=True)\n",
        "rmse2 = mean_squared_error(y_true=y_test, y_pred=y_pred2, squared=False)\n",
        "print(\"RMSE+\",mse2)"
      ],
      "metadata": {
        "colab": {
          "base_uri": "https://localhost:8080/"
        },
        "id": "YRjUUtcWAfqm",
        "outputId": "16f0baf3-dbae-4816-d7fd-5411968c66e0"
      },
      "execution_count": null,
      "outputs": [
        {
          "output_type": "stream",
          "name": "stdout",
          "text": [
            "Training score1 1.0\n",
            "Testing score1 -0.3264318208328474\n",
            "Training score2 0.8151256036046248\n",
            "Testing score2 0.344644590087938\n",
            "RMSE+ 11.46031746031746\n",
            "RMSE+ 5.662244322676852\n"
          ]
        }
      ]
    },
    {
      "cell_type": "code",
      "source": [
        "sns.scatterplot(X_embedded[:,0], X_embedded[:,1], hue=Y, legend='full', palette=palette)"
      ],
      "metadata": {
        "colab": {
          "base_uri": "https://localhost:8080/",
          "height": 165
        },
        "id": "tI5HHyPnY7p-",
        "outputId": "91f5ed43-9e8c-4ffe-970b-6a1f7d72d556"
      },
      "execution_count": null,
      "outputs": [
        {
          "output_type": "error",
          "ename": "TypeError",
          "evalue": "ignored",
          "traceback": [
            "\u001b[0;31m---------------------------------------------------------------------------\u001b[0m",
            "\u001b[0;31mTypeError\u001b[0m                                 Traceback (most recent call last)",
            "\u001b[0;32m<ipython-input-53-233465b801ed>\u001b[0m in \u001b[0;36m<module>\u001b[0;34m\u001b[0m\n\u001b[0;32m----> 1\u001b[0;31m \u001b[0msns\u001b[0m\u001b[0;34m.\u001b[0m\u001b[0mscatterplot\u001b[0m\u001b[0;34m(\u001b[0m\u001b[0mX_embedded\u001b[0m\u001b[0;34m[\u001b[0m\u001b[0;34m:\u001b[0m\u001b[0;34m,\u001b[0m\u001b[0;36m0\u001b[0m\u001b[0;34m]\u001b[0m\u001b[0;34m,\u001b[0m \u001b[0mX_embedded\u001b[0m\u001b[0;34m[\u001b[0m\u001b[0;34m:\u001b[0m\u001b[0;34m,\u001b[0m\u001b[0;36m1\u001b[0m\u001b[0;34m]\u001b[0m\u001b[0;34m,\u001b[0m \u001b[0mhue\u001b[0m\u001b[0;34m=\u001b[0m\u001b[0mY\u001b[0m\u001b[0;34m,\u001b[0m \u001b[0mlegend\u001b[0m\u001b[0;34m=\u001b[0m\u001b[0;34m'full'\u001b[0m\u001b[0;34m,\u001b[0m \u001b[0mpalette\u001b[0m\u001b[0;34m=\u001b[0m\u001b[0mpalette\u001b[0m\u001b[0;34m)\u001b[0m\u001b[0;34m\u001b[0m\u001b[0;34m\u001b[0m\u001b[0m\n\u001b[0m",
            "\u001b[0;31mTypeError\u001b[0m: scatterplot() takes from 0 to 1 positional arguments but 2 positional arguments (and 3 keyword-only arguments) were given"
          ]
        }
      ]
    },
    {
      "cell_type": "code",
      "source": [
        "sns.scatterplot(X_embedded[:,0], X_embedded[:,1])"
      ],
      "metadata": {
        "colab": {
          "base_uri": "https://localhost:8080/",
          "height": 165
        },
        "id": "H8we2ESyaExQ",
        "outputId": "b8de2095-ce03-4e25-c79f-aa658ff68d98"
      },
      "execution_count": null,
      "outputs": [
        {
          "output_type": "error",
          "ename": "TypeError",
          "evalue": "ignored",
          "traceback": [
            "\u001b[0;31m---------------------------------------------------------------------------\u001b[0m",
            "\u001b[0;31mTypeError\u001b[0m                                 Traceback (most recent call last)",
            "\u001b[0;32m<ipython-input-55-bbe4c8fe8d86>\u001b[0m in \u001b[0;36m<module>\u001b[0;34m\u001b[0m\n\u001b[0;32m----> 1\u001b[0;31m \u001b[0msns\u001b[0m\u001b[0;34m.\u001b[0m\u001b[0mscatterplot\u001b[0m\u001b[0;34m(\u001b[0m\u001b[0mX_embedded\u001b[0m\u001b[0;34m[\u001b[0m\u001b[0;34m:\u001b[0m\u001b[0;34m,\u001b[0m\u001b[0;36m0\u001b[0m\u001b[0;34m]\u001b[0m\u001b[0;34m,\u001b[0m \u001b[0mX_embedded\u001b[0m\u001b[0;34m[\u001b[0m\u001b[0;34m:\u001b[0m\u001b[0;34m,\u001b[0m\u001b[0;36m1\u001b[0m\u001b[0;34m]\u001b[0m\u001b[0;34m)\u001b[0m\u001b[0;34m\u001b[0m\u001b[0;34m\u001b[0m\u001b[0m\n\u001b[0m",
            "\u001b[0;31mTypeError\u001b[0m: scatterplot() takes from 0 to 1 positional arguments but 2 were given"
          ]
        }
      ]
    },
    {
      "cell_type": "markdown",
      "source": [
        "# Finding the relationship between **Color** and **Turbidity**:"
      ],
      "metadata": {
        "id": "CQNvXjQxQXTc"
      }
    },
    {
      "cell_type": "code",
      "source": [],
      "metadata": {
        "id": "bduP49qOQV0t"
      },
      "execution_count": null,
      "outputs": []
    }
  ]
}